{
 "cells": [
  {
   "cell_type": "markdown",
   "metadata": {},
   "source": [
    "# Our data is present in form of directories and sub-directories...and this block will extract face from each image and then convert that data into a single numpy array and store in a compressed file."
   ]
  },
  {
   "cell_type": "code",
   "execution_count": 8,
   "metadata": {},
   "outputs": [
    {
     "name": "stdout",
     "output_type": "stream",
     "text": [
      "here\n",
      "WARNING:tensorflow:5 out of the last 584 calls to <function Model.make_predict_function.<locals>.predict_function at 0x150705a60> triggered tf.function retracing. Tracing is expensive and the excessive number of tracings could be due to (1) creating @tf.function repeatedly in a loop, (2) passing tensors with different shapes, (3) passing Python objects instead of tensors. For (1), please define your @tf.function outside of the loop. For (2), @tf.function has experimental_relax_shapes=True option that relaxes argument shapes that can avoid unnecessary retracing. For (3), please refer to https://www.tensorflow.org/guide/function#controlling_retracing and https://www.tensorflow.org/api_docs/python/tf/function for  more details.\n",
      "WARNING:tensorflow:6 out of the last 585 calls to <function Model.make_predict_function.<locals>.predict_function at 0x14f86bb80> triggered tf.function retracing. Tracing is expensive and the excessive number of tracings could be due to (1) creating @tf.function repeatedly in a loop, (2) passing tensors with different shapes, (3) passing Python objects instead of tensors. For (1), please define your @tf.function outside of the loop. For (2), @tf.function has experimental_relax_shapes=True option that relaxes argument shapes that can avoid unnecessary retracing. For (3), please refer to https://www.tensorflow.org/guide/function#controlling_retracing and https://www.tensorflow.org/api_docs/python/tf/function for  more details.\n",
      "here\n",
      "here\n",
      "here\n",
      "here\n",
      "(93, 160, 160, 3) (93,)\n",
      "here\n",
      "here\n",
      "here\n",
      "here\n",
      "here\n"
     ]
    }
   ],
   "source": [
    "from os import listdir\n",
    "from os.path import isdir\n",
    "import numpy as np;\n",
    "from numpy import savez_compressed\n",
    "from numpy import asarray\n",
    "from mtcnn.mtcnn import MTCNN\n",
    "import cv2;\n",
    "\n",
    "detector = MTCNN()\n",
    "\n",
    "# extract a single face from a given photograph\n",
    "def extract_face(filename, required_size=(160, 160, 3)):\n",
    "     pixels = cv2.imread(filename)\n",
    "     pixels = cv2.cvtColor(pixels, cv2.COLOR_BGR2RGB)\n",
    "     pixels = asarray(pixels)\n",
    "     results = detector.detect_faces(pixels)\n",
    "     if(len(results) == 0):\n",
    "        cv2.imshow('img',pixels);\n",
    "        cv2.waitKey(0);\n",
    "        return;\n",
    "     x1, y1, width, height = results[0]['box']\n",
    "     x1, y1 = abs(x1), abs(y1)\n",
    "     x2, y2 = x1 + width, y1 + height\n",
    "     face = pixels[y1:y2, x1:x2]\n",
    "     face_array = np.resize(face,required_size)\n",
    "     return face_array\n",
    " \n",
    "    \n",
    "# load images and extract faces for all images in a directory\n",
    "def load_faces(directory):\n",
    "     faces = [];\n",
    "     for filename in listdir(directory):\n",
    "         path = directory + filename\n",
    "         face = extract_face(path)\n",
    "         faces.append(face)\n",
    "     return faces\n",
    " \n",
    "# load a dataset that contains one subdir for each class that in turn contains images\n",
    "def load_dataset(directory):\n",
    "     X, y = [],[]\n",
    "     for subdir in listdir(directory):\n",
    "         path = directory + '/'+ subdir + '/'\n",
    "         faces = load_faces(path)\n",
    "         labels = [subdir for _ in range(len(faces))]\n",
    "         X.extend(faces)\n",
    "         y.extend(labels)\n",
    "     return asarray(X), asarray(y)\n",
    "\n",
    "trainX, trainy = load_dataset('5-celebrity-faces-dataset/train/')\n",
    "print(trainX.shape, trainy.shape)\n",
    "testX, testy = load_dataset('5-celebrity-faces-dataset/val/')\n",
    "savez_compressed('5-celebrity-faces-dataset.npz', trainX, trainy, testX, testy)"
   ]
  },
  {
   "cell_type": "code",
   "execution_count": 9,
   "metadata": {},
   "outputs": [],
   "source": [
    "from numpy import load\n",
    "from numpy import expand_dims\n",
    "from numpy import asarray\n",
    "from numpy import savez_compressed\n",
    "from keras_facenet import FaceNet\n",
    "\n",
    "    \n",
    "def get_embedding(model, face_pixels):\n",
    " face_pixels = face_pixels.astype('float32')\n",
    " mean, std = face_pixels.mean(), face_pixels.std()\n",
    " face_pixels = (face_pixels - mean) / std\n",
    " face_pixels=face_pixels.reshape(1,160,160,3);\n",
    " yhat = model.embeddings(face_pixels)\n",
    " return yhat[0]\n",
    " \n",
    "\n",
    "    \n",
    "data = load('5-celebrity-faces-dataset.npz',allow_pickle=True)\n",
    "model = FaceNet() \n",
    "trainX, trainy, testX, testy = data['arr_0'], data['arr_1'], data['arr_2'], data['arr_3']\n",
    "newTrainX = [];\n",
    "for face_pixels in trainX:\n",
    " embedding = get_embedding(model, face_pixels)\n",
    " newTrainX.append(embedding)\n",
    "newTrainX = asarray(newTrainX)\n",
    "\n",
    "newTestX = [];\n",
    "for face_pixels in testX:\n",
    " embedding = get_embedding(model, face_pixels)\n",
    " newTestX.append(embedding)\n",
    "newTestX = asarray(newTestX)\n",
    "\n",
    "savez_compressed('5-celebrity-faces-embeddings.npz', newTrainX, trainy, newTestX, testy)"
   ]
  },
  {
   "cell_type": "code",
   "execution_count": 14,
   "metadata": {},
   "outputs": [
    {
     "name": "stdout",
     "output_type": "stream",
     "text": [
      "Accuracy: train=23.656, test=20.000\n"
     ]
    }
   ],
   "source": [
    "from sklearn.metrics import accuracy_score\n",
    "from sklearn.preprocessing import Normalizer\n",
    "from sklearn.preprocessing import LabelEncoder\n",
    "from sklearn.svm import SVC\n",
    "data = load('5-celebrity-faces-embeddings.npz')\n",
    "trainX, trainy, testX, testy = data['arr_0'], data['arr_1'], data['arr_2'], data['arr_3']\n",
    "in_encoder = Normalizer(norm='l2')\n",
    "trainX = in_encoder.transform(trainX)\n",
    "testX = in_encoder.transform(testX)\n",
    "out_encoder = LabelEncoder()\n",
    "out_encoder.fit(trainy)\n",
    "trainy = out_encoder.transform(trainy)\n",
    "testy = out_encoder.transform(testy)\n",
    "model = SVC(kernel='linear', probability=True)\n",
    "model.fit(trainX, trainy)\n",
    "yhat_train = model.predict(trainX)\n",
    "yhat_test = model.predict(testX)\n",
    "# score\n",
    "score_train = accuracy_score(trainy, yhat_train)\n",
    "score_test = accuracy_score(testy, yhat_test)\n",
    "# summarize\n",
    "print('Accuracy: train=%.3f, test=%.3f' % (score_train*100, score_test*100))"
   ]
  },
  {
   "cell_type": "code",
   "execution_count": 11,
   "metadata": {},
   "outputs": [
    {
     "name": "stdout",
     "output_type": "stream",
     "text": [
      "Accuracy: train=23.656, test=20.000\n"
     ]
    }
   ],
   "source": [
    "yhat_train = model.predict(trainX)\n",
    "yhat_test = model.predict(testX)\n",
    "# score\n",
    "score_train = accuracy_score(trainy, yhat_train)\n",
    "score_test = accuracy_score(testy, yhat_test)\n",
    "# summarize\n",
    "print('Accuracy: train=%.3f, test=%.3f' % (score_train*100, score_test*100))"
   ]
  },
  {
   "cell_type": "code",
   "execution_count": null,
   "metadata": {},
   "outputs": [],
   "source": []
  },
  {
   "cell_type": "code",
   "execution_count": null,
   "metadata": {},
   "outputs": [],
   "source": []
  }
 ],
 "metadata": {
  "kernelspec": {
   "display_name": "Python 3",
   "language": "python",
   "name": "python3"
  },
  "language_info": {
   "codemirror_mode": {
    "name": "ipython",
    "version": 3
   },
   "file_extension": ".py",
   "mimetype": "text/x-python",
   "name": "python",
   "nbconvert_exporter": "python",
   "pygments_lexer": "ipython3",
   "version": "3.8.5"
  }
 },
 "nbformat": 4,
 "nbformat_minor": 4
}
