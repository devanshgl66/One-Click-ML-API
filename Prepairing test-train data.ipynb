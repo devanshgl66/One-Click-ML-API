{
 "cells": [
  {
   "cell_type": "code",
   "execution_count": 13,
   "metadata": {},
   "outputs": [],
   "source": [
    "import os    \n",
    "import shutil\n",
    "\n",
    "\n",
    "path='Face Dataset/train'\n",
    "\n",
    "\n",
    "def find_images_to_be_shifted(dir_name):\n",
    "    images=os.listdir(dir_name);\n",
    "    temp_images=[image for image in images if image[0]!='.'];\n",
    "    if(len(temp_images)<=3):\n",
    "        return [];\n",
    "    if(len(temp_images) in [4,5]):\n",
    "        return temp_images[0:1];\n",
    "    temp=len(temp_images)-5;\n",
    "    return temp_images[0:temp];\n",
    "    \n",
    "        \n",
    "            \n",
    "\n",
    "\n",
    "def prepare_test_sub_directory(path,dir_name):\n",
    "    images=find_images_to_be_shifted(path+'/'+dir_name);\n",
    "    if(len(images)==0):\n",
    "        return;\n",
    "    destination='Face Dataset/test/'+dir_name\n",
    "    try:\n",
    "        os.mkdir(destination);\n",
    "        for image in images:\n",
    "            source=path+'/'+dir_name+'/'+image\n",
    "            shutil.move(source, destination)\n",
    "    except:\n",
    "        for image in images:\n",
    "            source=path+'/'+dir_name+'/'+image\n",
    "            shutil.move(source, destination)\n",
    "            \n",
    "        \n",
    "def prepare_test_data():\n",
    "    for subdir in os.listdir(path):\n",
    "        if(subdir[0]=='.'):\n",
    "            continue;\n",
    "        prepare_test_sub_directory(path,subdir);\n",
    "        \n",
    "\n",
    "prepare_test_data();"
   ]
  },
  {
   "cell_type": "code",
   "execution_count": null,
   "metadata": {},
   "outputs": [],
   "source": []
  }
 ],
 "metadata": {
  "kernelspec": {
   "display_name": "Python 3",
   "language": "python",
   "name": "python3"
  },
  "language_info": {
   "codemirror_mode": {
    "name": "ipython",
    "version": 3
   },
   "file_extension": ".py",
   "mimetype": "text/x-python",
   "name": "python",
   "nbconvert_exporter": "python",
   "pygments_lexer": "ipython3",
   "version": "3.8.5"
  }
 },
 "nbformat": 4,
 "nbformat_minor": 4
}
